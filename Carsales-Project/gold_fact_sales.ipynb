{
 "cells": [
  {
   "cell_type": "code",
   "execution_count": 0,
   "metadata": {
    "application/vnd.databricks.v1+cell": {
     "cellMetadata": {
      "byteLimit": 2048000,
      "rowLimit": 10000
     },
     "inputWidgets": {},
     "nuid": "d9b857dd-e8ac-4496-a44a-7b83484d1dc4",
     "showTitle": false,
     "tableResultSettingsMap": {},
     "title": ""
    },
    "jupyter": {
     "outputs_hidden": true
    }
   },
   "outputs": [],
   "source": [
    "from pyspark.sql.functions import *\n",
    "from pyspark.sql.types import *\n",
    "from delta.tables import *\n"
   ]
  },
  {
   "cell_type": "code",
   "execution_count": 0,
   "metadata": {
    "application/vnd.databricks.v1+cell": {
     "cellMetadata": {
      "byteLimit": 2048000,
      "implicitDf": true,
      "rowLimit": 10000
     },
     "inputWidgets": {},
     "nuid": "fd3d9414-44a0-4a8b-9948-c77a7303548f",
     "showTitle": false,
     "tableResultSettingsMap": {},
     "title": ""
    }
   },
   "outputs": [],
   "source": [
    "df_silver = spark.sql(\"select * from parquet.`abfss://slvr@adlsgen5485.dfs.core.windows.net/carsales`\")\n",
    "df_silver.display()"
   ]
  },
  {
   "cell_type": "code",
   "execution_count": 0,
   "metadata": {
    "application/vnd.databricks.v1+cell": {
     "cellMetadata": {
      "byteLimit": 2048000,
      "rowLimit": 10000
     },
     "inputWidgets": {},
     "nuid": "9fa3e8a5-0916-40c8-b71b-540bbb0bd292",
     "showTitle": false,
     "tableResultSettingsMap": {},
     "title": ""
    }
   },
   "outputs": [],
   "source": [
    "df_dealer = spark.sql('select * from cars_catalog.gold.dim_dealer')\n",
    "df_branch = spark.sql('select * from cars_catalog.gold.dim_branch')\n",
    "df_model = spark.sql('select * from cars_catalog.gold.dim_model')\n",
    "df_date = spark.sql('select * from cars_catalog.gold.dim_date')\n"
   ]
  },
  {
   "cell_type": "code",
   "execution_count": 0,
   "metadata": {
    "application/vnd.databricks.v1+cell": {
     "cellMetadata": {
      "byteLimit": 2048000,
      "rowLimit": 10000
     },
     "inputWidgets": {},
     "nuid": "9e622b04-0519-4aed-a7a2-0eafd4511d63",
     "showTitle": false,
     "tableResultSettingsMap": {},
     "title": ""
    }
   },
   "outputs": [],
   "source": [
    "df_fact = df_silver \\\n",
    "              .join(df_dealer, df_silver['Dealer_ID'] == df_dealer['Dealer_ID'], \"left\") \\\n",
    "              .join(df_branch, df_silver['Branch_ID'] == df_branch['Branch_ID'], \"left\") \\\n",
    "              .join(df_model, df_silver['Model_ID'] == df_model['Model_ID'], \"left\") \\\n",
    "              .join(df_date, df_silver['Date_ID'] == df_date['Date_ID'], \"left\") \\\n",
    "              .select(df_silver['Revenue'],df_silver['Units_Sold'],df_silver['revenue_per_unit'],df_dealer['dim_dealer_key'],df_branch['dim_branch_key'],df_model['dim_model_key'],df_date['dim_date_key'])"
   ]
  },
  {
   "cell_type": "code",
   "execution_count": 0,
   "metadata": {
    "application/vnd.databricks.v1+cell": {
     "cellMetadata": {
      "byteLimit": 2048000,
      "rowLimit": 10000
     },
     "inputWidgets": {},
     "nuid": "be82c359-a1ba-4366-807d-d5ba758b3ef0",
     "showTitle": false,
     "tableResultSettingsMap": {
      "0": {
       "dataGridStateBlob": "{\"version\":1,\"tableState\":{\"columnPinning\":{\"left\":[\"#row_number#\"],\"right\":[]},\"columnSizing\":{},\"columnVisibility\":{}},\"settings\":{\"columns\":{}},\"syncTimestamp\":1756595963923}",
       "filterBlob": null,
       "queryPlanFiltersBlob": null,
       "tableResultIndex": 0
      }
     },
     "title": ""
    }
   },
   "outputs": [],
   "source": [
    "df_fact.display()"
   ]
  },
  {
   "cell_type": "markdown",
   "metadata": {
    "application/vnd.databricks.v1+cell": {
     "cellMetadata": {},
     "inputWidgets": {},
     "nuid": "1b20bf31-04ae-4be8-82bf-4704a5e1da49",
     "showTitle": false,
     "tableResultSettingsMap": {},
     "title": ""
    }
   },
   "source": [
    "##Writing Fact Table"
   ]
  },
  {
   "cell_type": "code",
   "execution_count": 0,
   "metadata": {
    "application/vnd.databricks.v1+cell": {
     "cellMetadata": {
      "byteLimit": 2048000,
      "rowLimit": 10000
     },
     "inputWidgets": {},
     "nuid": "ed22bf5c-807f-4ee6-8d2b-e3db6e2d439d",
     "showTitle": false,
     "tableResultSettingsMap": {},
     "title": ""
    }
   },
   "outputs": [],
   "source": [
    "\n",
    "#Incremental Run\n",
    "if spark.catalog.tableExists(\"cars_catalog.gold.fact_sales\"):\n",
    "  delta_table = DeltaTable.forName(spark,\"cars_catalog.gold.fact_sales\")\n",
    "  delta_table.alias(\"t\").merge(df_fact.alias(\"s\"), \"t.dim_date_key = s.dim_date_key and t.dim_dealer_key = s.dim_dealer_key and t.dim_branch_key = s.dim_branch_key and t.dim_model_key = s.dim_model_key\") \\\n",
    "      .whenMatchedUpdateAll() \\\n",
    "      .whenNotMatchedInsertAll() \\\n",
    "      .execute()\n",
    "#Initial Run      \n",
    "else:\n",
    "   df_fact.write.format(\"delta\") \\\n",
    "     .mode(\"overwrite\").option(\"path\",\"abfss://gold@adlsgen5485.dfs.core.windows.net/fact_sales\") \\\n",
    "     .saveAsTable(\"cars_catalog.gold.fact_sales\")"
   ]
  }
 ],
 "metadata": {
  "application/vnd.databricks.v1+notebook": {
   "computePreferences": null,
   "dashboards": [],
   "environmentMetadata": {
    "base_environment": "",
    "environment_version": "3"
   },
   "inputWidgetPreferences": null,
   "language": "python",
   "notebookMetadata": {
    "mostRecentlyExecutedCommandWithImplicitDF": {
     "commandId": 1532155889066785,
     "dataframes": [
      "_sqldf"
     ]
    },
    "pythonIndentUnit": 4
   },
   "notebookName": "gold_fact_sales",
   "widgets": {}
  },
  "language_info": {
   "name": "python"
  }
 },
 "nbformat": 4,
 "nbformat_minor": 0
}
